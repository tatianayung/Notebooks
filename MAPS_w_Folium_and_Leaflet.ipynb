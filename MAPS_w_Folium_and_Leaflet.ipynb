{
  "nbformat": 4,
  "nbformat_minor": 0,
  "metadata": {
    "colab": {
      "name": "MAPS w/ Folium and Leaflet.ipynb",
      "provenance": [],
      "collapsed_sections": [],
      "authorship_tag": "ABX9TyPdYBgEfRC8BiNAS7fjGDws",
      "include_colab_link": true
    },
    "kernelspec": {
      "name": "python3",
      "display_name": "Python 3"
    }
  },
  "cells": [
    {
      "cell_type": "markdown",
      "metadata": {
        "id": "view-in-github",
        "colab_type": "text"
      },
      "source": [
        "<a href=\"https://colab.research.google.com/github/tatianayung/Notebooks/blob/main/MAPS_w_Folium_and_Leaflet.ipynb\" target=\"_parent\"><img src=\"https://colab.research.google.com/assets/colab-badge.svg\" alt=\"Open In Colab\"/></a>"
      ]
    },
    {
      "cell_type": "markdown",
      "metadata": {
        "id": "O4r3cfxWj0oe"
      },
      "source": [
        "add under 'location': [Latitude and Longitude Finder](https://www.latlong.net/)"
      ]
    },
    {
      "cell_type": "code",
      "metadata": {
        "colab": {
          "base_uri": "https://localhost:8080/",
          "height": 424
        },
        "id": "EYpkXUZ3jUBL",
        "outputId": "ec88e8e5-b6b4-4bfe-9adf-eccf76f93660"
      },
      "source": [
        "import folium\n",
        "\n",
        "m = folium.Map(location=[42.360081, -71.058884], zoom_start=15)\n",
        "               #tiles = 'OpenStreetMap'\n",
        "\"\"\"tiles example\"\"\"\n",
        "# - \"OpenStreetMap\"\n",
        "# - \"Stamen Terrain\"\n",
        "# - \"Mapbox Bright\" (Limited levels of zoom for free tiles)\n",
        "# - \"Mapbox Control Room\" (Limited levels of zoom for free tiles)\n",
        "# - \"Stamen\" (Terrain, Toner, and Watercolor)\n",
        "# - \"Cloudmade\" (Must pass API key)\n",
        "# - \"Mapbox\" (Must pass API key)\n",
        "# - \"CartoDB\" (positron and dark_matter)\n",
        "m"
      ],
      "execution_count": 16,
      "outputs": [
        {
          "output_type": "execute_result",
          "data": {
            "text/html": [
              "<div style=\"width:100%;\"><div style=\"position:relative;width:100%;height:0;padding-bottom:60%;\"><span style=\"color:#565656\">Make this Notebook Trusted to load map: File -> Trust Notebook</span><iframe src=\"about:blank\" style=\"position:absolute;width:100%;height:100%;left:0;top:0;border:none !important;\" data-html=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 onload=\"this.contentDocument.open();this.contentDocument.write(atob(this.getAttribute('data-html')));this.contentDocument.close();\" allowfullscreen webkitallowfullscreen mozallowfullscreen></iframe></div></div>"
            ],
            "text/plain": [
              "<folium.folium.Map at 0x7fa249fe1128>"
            ]
          },
          "metadata": {
            "tags": []
          },
          "execution_count": 16
        }
      ]
    },
    {
      "cell_type": "markdown",
      "metadata": {
        "id": "yt0R-2W1lqz3"
      },
      "source": [
        "# **Marker**\n",
        "\n",
        "---\n",
        "\n"
      ]
    },
    {
      "cell_type": "code",
      "metadata": {
        "colab": {
          "base_uri": "https://localhost:8080/",
          "height": 424
        },
        "id": "EdeTLAc8lwTI",
        "outputId": "689963f3-b795-4a04-c2e3-fe2988b0ca74"
      },
      "source": [
        "#create city markers and add them to map object\n",
        "folium.Marker(location=[42.360081, -71.058884],popup='Boston',icon=folium.Icon(icon='cloud')).add_to(m)\n",
        "folium.Marker(location=[37.774929, -122.419418],popup='San Fransisco',icon=folium.Icon(color='green')).add_to(m)\n",
        "folium.Marker(location=[41.878113, -87.629799],popup='Chicago',icon=folium.Icon(color='red', icon='envelope')).add_to(m)\n",
        "m"
      ],
      "execution_count": 14,
      "outputs": [
        {
          "output_type": "execute_result",
          "data": {
            "text/html": [
              "<div style=\"width:100%;\"><div style=\"position:relative;width:100%;height:0;padding-bottom:60%;\"><span style=\"color:#565656\">Make this Notebook Trusted to load map: File -> Trust Notebook</span><iframe src=\"about:blank\" style=\"position:absolute;width:100%;height:100%;left:0;top:0;border:none !important;\" data-html=PCFET0NUWVBFIGh0bWw+CjxoZWFkPiAgICAKICAgIDxtZXRhIGh0dHAtZXF1aXY9ImNvbnRlbnQtdHlwZSIgY29udGVudD0idGV4dC9odG1sOyBjaGFyc2V0PVVURi04IiAvPgogICAgPHNjcmlwdD5MX1BSRUZFUl9DQU5WQVM9ZmFsc2U7IExfTk9fVE9VQ0g9ZmFsc2U7IExfRElTQUJMRV8zRD1mYWxzZTs8L3NjcmlwdD4KICAgIDxzY3JpcHQgc3JjPSJodHRwczovL2Nkbi5qc2RlbGl2ci5uZXQvbnBtL2xlYWZsZXRAMS40LjAvZGlzdC9sZWFmbGV0LmpzIj48L3NjcmlwdD4KICAgIDxzY3JpcHQgc3JjPSJodHRwczovL2NvZGUuanF1ZXJ5LmNvbS9qcXVlcnktMS4xMi40Lm1pbi5qcyI+PC9zY3JpcHQ+CiAgICA8c2NyaXB0IHNyYz0iaHR0cHM6Ly9tYXhjZG4uYm9vdHN0cmFwY2RuLmNvbS9ib290c3RyYXAvMy4yLjAvanMvYm9vdHN0cmFwLm1pbi5qcyI+PC9zY3JpcHQ+CiAgICA8c2NyaXB0IHNyYz0iaHR0cHM6Ly9jZG5qcy5jbG91ZGZsYXJlLmNvbS9hamF4L2xpYnMvTGVhZmxldC5hd2Vzb21lLW1hcmtlcnMvMi4wLjIvbGVhZmxldC5hd2Vzb21lLW1hcmtlcnMuanMiPjwvc2NyaXB0PgogICAgPGxpbmsgcmVsPSJzdHlsZXNoZWV0IiBocmVmPSJodHRwczovL2Nkbi5qc2RlbGl2ci5uZXQvbnBtL2xlYWZsZXRAMS40LjAvZGlzdC9sZWFmbGV0LmNzcyIvPgogICAgPGxpbmsgcmVsPSJzdHlsZXNoZWV0IiBocmVmPSJodHRwczovL21heGNkbi5ib290c3RyYXBjZG4uY29tL2Jvb3RzdHJhcC8zLjIuMC9jc3MvYm9vdHN0cmFwLm1pbi5jc3MiLz4KICAgIDxsaW5rIHJlbD0ic3R5bGVzaGVldCIgaHJlZj0iaHR0cHM6Ly9tYXhjZG4uYm9vdHN0cmFwY2RuLmNvbS9ib290c3RyYXAvMy4yLjAvY3NzL2Jvb3RzdHJhcC10aGVtZS5taW4uY3NzIi8+CiAgICA8bGluayByZWw9InN0eWxlc2hlZXQiIGhyZWY9Imh0dHBzOi8vbWF4Y2RuLmJvb3RzdHJhcGNkbi5jb20vZm9udC1hd2Vzb21lLzQuNi4zL2Nzcy9mb250LWF3ZXNvbWUubWluLmNzcyIvPgogICAgPGxpbmsgcmVsPSJzdHlsZXNoZWV0IiBocmVmPSJodHRwczovL2NkbmpzLmNsb3VkZmxhcmUuY29tL2FqYXgvbGlicy9MZWFmbGV0LmF3ZXNvbWUtbWFya2Vycy8yLjAuMi9sZWFmbGV0LmF3ZXNvbWUtbWFya2Vycy5jc3MiLz4KICAgIDxsaW5rIHJlbD0ic3R5bGVzaGVldCIgaHJlZj0iaHR0cHM6Ly9yYXdjZG4uZ2l0aGFjay5jb20vcHl0aG9uLXZpc3VhbGl6YXRpb24vZm9saXVtL21hc3Rlci9mb2xpdW0vdGVtcGxhdGVzL2xlYWZsZXQuYXdlc29tZS5yb3RhdGUuY3NzIi8+CiAgICA8c3R5bGU+aHRtbCwgYm9keSB7d2lkdGg6IDEwMCU7aGVpZ2h0OiAxMDAlO21hcmdpbjogMDtwYWRkaW5nOiAwO308L3N0eWxlPgogICAgPHN0eWxlPiNtYXAge3Bvc2l0aW9uOmFic29sdXRlO3RvcDowO2JvdHRvbTowO3JpZ2h0OjA7bGVmdDowO308L3N0eWxlPgogICAgCiAgICA8bWV0YSBuYW1lPSJ2aWV3cG9ydCIgY29udGVudD0id2lkdGg9ZGV2aWNlLXdpZHRoLAogICAgICAgIGluaXRpYWwtc2NhbGU9MS4wLCBtYXhpbXVtLXNjYWxlPTEuMCwgdXNlci1zY2FsYWJsZT1ubyIgLz4KICAgIDxzdHlsZT4jbWFwXzFiYmMxZDdkMGIwODQzYTQ4ZWE0ZjEyNDY5YTcwMDQ5IHsKICAgICAgICBwb3NpdGlvbjogcmVsYXRpdmU7CiAgICAgICAgd2lkdGg6IDEwMC4wJTsKICAgICAgICBoZWlnaHQ6IDEwMC4wJTsKICAgICAgICBsZWZ0OiAwLjAlOwogICAgICAgIHRvcDogMC4wJTsKICAgICAgICB9CiAgICA8L3N0eWxlPgo8L2hlYWQ+Cjxib2R5PiAgICAKICAgIAogICAgPGRpdiBjbGFzcz0iZm9saXVtLW1hcCIgaWQ9Im1hcF8xYmJjMWQ3ZDBiMDg0M2E0OGVhNGYxMjQ2OWE3MDA0OSIgPjwvZGl2Pgo8L2JvZHk+CjxzY3JpcHQ+ICAgIAogICAgCiAgICAKICAgICAgICB2YXIgYm91bmRzID0gbnVsbDsKICAgIAoKICAgIHZhciBtYXBfMWJiYzFkN2QwYjA4NDNhNDhlYTRmMTI0NjlhNzAwNDkgPSBMLm1hcCgKICAgICAgICAnbWFwXzFiYmMxZDdkMGIwODQzYTQ4ZWE0ZjEyNDY5YTcwMDQ5JywgewogICAgICAgIGNlbnRlcjogWzQyLjM2MDA4MSwgLTcxLjA1ODg4NF0sCiAgICAgICAgem9vbTogMTUsCiAgICAgICAgbWF4Qm91bmRzOiBib3VuZHMsCiAgICAgICAgbGF5ZXJzOiBbXSwKICAgICAgICB3b3JsZENvcHlKdW1wOiBmYWxzZSwKICAgICAgICBjcnM6IEwuQ1JTLkVQU0czODU3LAogICAgICAgIHpvb21Db250cm9sOiB0cnVlLAogICAgICAgIH0pOwoKCiAgICAKICAgIHZhciB0aWxlX2xheWVyXzg1MjEwNWFjYjI1NDQ4MTc5MTAyZWFhODllYmZjNDU4ID0gTC50aWxlTGF5ZXIoCiAgICAgICAgJ2h0dHBzOi8ve3N9LnRpbGUub3BlbnN0cmVldG1hcC5vcmcve3p9L3t4fS97eX0ucG5nJywKICAgICAgICB7CiAgICAgICAgImF0dHJpYnV0aW9uIjogbnVsbCwKICAgICAgICAiZGV0ZWN0UmV0aW5hIjogZmFsc2UsCiAgICAgICAgIm1heE5hdGl2ZVpvb20iOiAxOCwKICAgICAgICAibWF4Wm9vbSI6IDE4LAogICAgICAgICJtaW5ab29tIjogMCwKICAgICAgICAibm9XcmFwIjogZmFsc2UsCiAgICAgICAgIm9wYWNpdHkiOiAxLAogICAgICAgICJzdWJkb21haW5zIjogImFiYyIsCiAgICAgICAgInRtcyI6IGZhbHNlCn0pLmFkZFRvKG1hcF8xYmJjMWQ3ZDBiMDg0M2E0OGVhNGYxMjQ2OWE3MDA0OSk7CiAgICAKICAgICAgICB2YXIgbWFya2VyX2RmMjNjOTRjNmRkMDRiODQ4NTczN2E0NDliNjU3NjE3ID0gTC5tYXJrZXIoCiAgICAgICAgICAgIFs0Mi4zNjAwODEsIC03MS4wNTg4ODRdLAogICAgICAgICAgICB7CiAgICAgICAgICAgICAgICBpY29uOiBuZXcgTC5JY29uLkRlZmF1bHQoKSwKICAgICAgICAgICAgICAgIH0KICAgICAgICAgICAgKS5hZGRUbyhtYXBfMWJiYzFkN2QwYjA4NDNhNDhlYTRmMTI0NjlhNzAwNDkpOwogICAgICAgIAogICAgCgogICAgICAgICAgICAgICAgdmFyIGljb25fYmI0NmNjNzVlNzVkNGNmY2FjNWZhODVhODBkNmU5ZmQgPSBMLkF3ZXNvbWVNYXJrZXJzLmljb24oewogICAgICAgICAgICAgICAgICAgIGljb246ICdjbG91ZCcsCiAgICAgICAgICAgICAgICAgICAgaWNvbkNvbG9yOiAnd2hpdGUnLAogICAgICAgICAgICAgICAgICAgIG1hcmtlckNvbG9yOiAnYmx1ZScsCiAgICAgICAgICAgICAgICAgICAgcHJlZml4OiAnZ2x5cGhpY29uJywKICAgICAgICAgICAgICAgICAgICBleHRyYUNsYXNzZXM6ICdmYS1yb3RhdGUtMCcKICAgICAgICAgICAgICAgICAgICB9KTsKICAgICAgICAgICAgICAgIG1hcmtlcl9kZjIzYzk0YzZkZDA0Yjg0ODU3MzdhNDQ5YjY1NzYxNy5zZXRJY29uKGljb25fYmI0NmNjNzVlNzVkNGNmY2FjNWZhODVhODBkNmU5ZmQpOwogICAgICAgICAgICAKICAgIAogICAgICAgICAgICB2YXIgcG9wdXBfZTlmMWU5OGVmYjg0NDA1YmE2MTkyZjgxZTBkMTY2ZDAgPSBMLnBvcHVwKHttYXhXaWR0aDogJzEwMCUnCiAgICAgICAgICAgIAogICAgICAgICAgICB9KTsKCiAgICAgICAgICAgIAogICAgICAgICAgICAgICAgdmFyIGh0bWxfMGJhNzM2ZTUzY2U2NGExYmFkNmE5YTkzZjVkZDc5ZTUgPSAkKGA8ZGl2IGlkPSJodG1sXzBiYTczNmU1M2NlNjRhMWJhZDZhOWE5M2Y1ZGQ3OWU1IiBzdHlsZT0id2lkdGg6IDEwMC4wJTsgaGVpZ2h0OiAxMDAuMCU7Ij5Cb3N0b248L2Rpdj5gKVswXTsKICAgICAgICAgICAgICAgIHBvcHVwX2U5ZjFlOThlZmI4NDQwNWJhNjE5MmY4MWUwZDE2NmQwLnNldENvbnRlbnQoaHRtbF8wYmE3MzZlNTNjZTY0YTFiYWQ2YTlhOTNmNWRkNzllNSk7CiAgICAgICAgICAgIAoKICAgICAgICAgICAgbWFya2VyX2RmMjNjOTRjNmRkMDRiODQ4NTczN2E0NDliNjU3NjE3LmJpbmRQb3B1cChwb3B1cF9lOWYxZTk4ZWZiODQ0MDViYTYxOTJmODFlMGQxNjZkMCkKICAgICAgICAgICAgOwoKICAgICAgICAgICAgCiAgICAgICAgCiAgICAKICAgICAgICB2YXIgbWFya2VyXzY2MDAyZTc5YzUyMDRiOGE5ZDUzMDk4YmJlYmYwZjJjID0gTC5tYXJrZXIoCiAgICAgICAgICAgIFszNy43NzQ5MjksIC0xMjIuNDE5NDE4XSwKICAgICAgICAgICAgewogICAgICAgICAgICAgICAgaWNvbjogbmV3IEwuSWNvbi5EZWZhdWx0KCksCiAgICAgICAgICAgICAgICB9CiAgICAgICAgICAgICkuYWRkVG8obWFwXzFiYmMxZDdkMGIwODQzYTQ4ZWE0ZjEyNDY5YTcwMDQ5KTsKICAgICAgICAKICAgIAoKICAgICAgICAgICAgICAgIHZhciBpY29uXzVlZGQ4ODhlNDg1YTRmYjViNjU3MmZhZGNlY2NmM2RhID0gTC5Bd2Vzb21lTWFya2Vycy5pY29uKHsKICAgICAgICAgICAgICAgICAgICBpY29uOiAnaW5mby1zaWduJywKICAgICAgICAgICAgICAgICAgICBpY29uQ29sb3I6ICd3aGl0ZScsCiAgICAgICAgICAgICAgICAgICAgbWFya2VyQ29sb3I6ICdncmVlbicsCiAgICAgICAgICAgICAgICAgICAgcHJlZml4OiAnZ2x5cGhpY29uJywKICAgICAgICAgICAgICAgICAgICBleHRyYUNsYXNzZXM6ICdmYS1yb3RhdGUtMCcKICAgICAgICAgICAgICAgICAgICB9KTsKICAgICAgICAgICAgICAgIG1hcmtlcl82NjAwMmU3OWM1MjA0YjhhOWQ1MzA5OGJiZWJmMGYyYy5zZXRJY29uKGljb25fNWVkZDg4OGU0ODVhNGZiNWI2NTcyZmFkY2VjY2YzZGEpOwogICAgICAgICAgICAKICAgIAogICAgICAgICAgICB2YXIgcG9wdXBfNTdiZmFkYmNhZGUyNDVhODk1MmQ5Nzc3ZGIxOWJlMjkgPSBMLnBvcHVwKHttYXhXaWR0aDogJzEwMCUnCiAgICAgICAgICAgIAogICAgICAgICAgICB9KTsKCiAgICAgICAgICAgIAogICAgICAgICAgICAgICAgdmFyIGh0bWxfYWYzNmRmMDcwNDU2NDA4NjgyYzI2MjBmZDFiMTUwZjEgPSAkKGA8ZGl2IGlkPSJodG1sX2FmMzZkZjA3MDQ1NjQwODY4MmMyNjIwZmQxYjE1MGYxIiBzdHlsZT0id2lkdGg6IDEwMC4wJTsgaGVpZ2h0OiAxMDAuMCU7Ij5TYW4gRnJhbnNpc2NvPC9kaXY+YClbMF07CiAgICAgICAgICAgICAgICBwb3B1cF81N2JmYWRiY2FkZTI0NWE4OTUyZDk3NzdkYjE5YmUyOS5zZXRDb250ZW50KGh0bWxfYWYzNmRmMDcwNDU2NDA4NjgyYzI2MjBmZDFiMTUwZjEpOwogICAgICAgICAgICAKCiAgICAgICAgICAgIG1hcmtlcl82NjAwMmU3OWM1MjA0YjhhOWQ1MzA5OGJiZWJmMGYyYy5iaW5kUG9wdXAocG9wdXBfNTdiZmFkYmNhZGUyNDVhODk1MmQ5Nzc3ZGIxOWJlMjkpCiAgICAgICAgICAgIDsKCiAgICAgICAgICAgIAogICAgICAgIAogICAgCiAgICAgICAgdmFyIG1hcmtlcl85OTIzZjFiNjAzOWY0ODc2ODU0NjVlMmQxYWI4YWUxYSA9IEwubWFya2VyKAogICAgICAgICAgICBbNDEuODc4MTEzLCAtODcuNjI5Nzk5XSwKICAgICAgICAgICAgewogICAgICAgICAgICAgICAgaWNvbjogbmV3IEwuSWNvbi5EZWZhdWx0KCksCiAgICAgICAgICAgICAgICB9CiAgICAgICAgICAgICkuYWRkVG8obWFwXzFiYmMxZDdkMGIwODQzYTQ4ZWE0ZjEyNDY5YTcwMDQ5KTsKICAgICAgICAKICAgIAoKICAgICAgICAgICAgICAgIHZhciBpY29uXzQ1NWQ2YWM0Y2YzMTRjMzNiZmQ3NWE3MjIwMzNjZjc4ID0gTC5Bd2Vzb21lTWFya2Vycy5pY29uKHsKICAgICAgICAgICAgICAgICAgICBpY29uOiAnZW52ZWxvcGUnLAogICAgICAgICAgICAgICAgICAgIGljb25Db2xvcjogJ3doaXRlJywKICAgICAgICAgICAgICAgICAgICBtYXJrZXJDb2xvcjogJ3JlZCcsCiAgICAgICAgICAgICAgICAgICAgcHJlZml4OiAnZ2x5cGhpY29uJywKICAgICAgICAgICAgICAgICAgICBleHRyYUNsYXNzZXM6ICdmYS1yb3RhdGUtMCcKICAgICAgICAgICAgICAgICAgICB9KTsKICAgICAgICAgICAgICAgIG1hcmtlcl85OTIzZjFiNjAzOWY0ODc2ODU0NjVlMmQxYWI4YWUxYS5zZXRJY29uKGljb25fNDU1ZDZhYzRjZjMxNGMzM2JmZDc1YTcyMjAzM2NmNzgpOwogICAgICAgICAgICAKICAgIAogICAgICAgICAgICB2YXIgcG9wdXBfYjA4NGZlNzU1ZTM2NGQ4MWIzNzAzMzQ1M2EwMjA0YzUgPSBMLnBvcHVwKHttYXhXaWR0aDogJzEwMCUnCiAgICAgICAgICAgIAogICAgICAgICAgICB9KTsKCiAgICAgICAgICAgIAogICAgICAgICAgICAgICAgdmFyIGh0bWxfOGM0OWViMjU4M2NjNGU1ZTk3YzcyNDVmYjA4YmIzMzQgPSAkKGA8ZGl2IGlkPSJodG1sXzhjNDllYjI1ODNjYzRlNWU5N2M3MjQ1ZmIwOGJiMzM0IiBzdHlsZT0id2lkdGg6IDEwMC4wJTsgaGVpZ2h0OiAxMDAuMCU7Ij5DaGljYWdvPC9kaXY+YClbMF07CiAgICAgICAgICAgICAgICBwb3B1cF9iMDg0ZmU3NTVlMzY0ZDgxYjM3MDMzNDUzYTAyMDRjNS5zZXRDb250ZW50KGh0bWxfOGM0OWViMjU4M2NjNGU1ZTk3YzcyNDVmYjA4YmIzMzQpOwogICAgICAgICAgICAKCiAgICAgICAgICAgIG1hcmtlcl85OTIzZjFiNjAzOWY0ODc2ODU0NjVlMmQxYWI4YWUxYS5iaW5kUG9wdXAocG9wdXBfYjA4NGZlNzU1ZTM2NGQ4MWIzNzAzMzQ1M2EwMjA0YzUpCiAgICAgICAgICAgIDsKCiAgICAgICAgICAgIAogICAgICAgIAogICAgCiAgICAgICAgdmFyIG1hcmtlcl80OTBlMTI4YzhkM2Q0ZmQ3YmMxYmI2OGFjNWQxMDEzMyA9IEwubWFya2VyKAogICAgICAgICAgICBbNDIuMzYwMDgxLCAtNzEuMDU4ODg0XSwKICAgICAgICAgICAgewogICAgICAgICAgICAgICAgaWNvbjogbmV3IEwuSWNvbi5EZWZhdWx0KCksCiAgICAgICAgICAgICAgICB9CiAgICAgICAgICAgICkuYWRkVG8obWFwXzFiYmMxZDdkMGIwODQzYTQ4ZWE0ZjEyNDY5YTcwMDQ5KTsKICAgICAgICAKICAgIAoKICAgICAgICAgICAgICAgIHZhciBpY29uXzhkZWZkYmY2OWIxZDQxZjU4NDA5MTEwODYyMDNhYTU0ID0gTC5Bd2Vzb21lTWFya2Vycy5pY29uKHsKICAgICAgICAgICAgICAgICAgICBpY29uOiAnY2xvdWQnLAogICAgICAgICAgICAgICAgICAgIGljb25Db2xvcjogJ3doaXRlJywKICAgICAgICAgICAgICAgICAgICBtYXJrZXJDb2xvcjogJ2JsdWUnLAogICAgICAgICAgICAgICAgICAgIHByZWZpeDogJ2dseXBoaWNvbicsCiAgICAgICAgICAgICAgICAgICAgZXh0cmFDbGFzc2VzOiAnZmEtcm90YXRlLTAnCiAgICAgICAgICAgICAgICAgICAgfSk7CiAgICAgICAgICAgICAgICBtYXJrZXJfNDkwZTEyOGM4ZDNkNGZkN2JjMWJiNjhhYzVkMTAxMzMuc2V0SWNvbihpY29uXzhkZWZkYmY2OWIxZDQxZjU4NDA5MTEwODYyMDNhYTU0KTsKICAgICAgICAgICAgCiAgICAKICAgICAgICAgICAgdmFyIHBvcHVwX2RmZGEzZDMzODRjMjQxM2JhOTFhYjZhNGQ2NzcxN2JlID0gTC5wb3B1cCh7bWF4V2lkdGg6ICcxMDAlJwogICAgICAgICAgICAKICAgICAgICAgICAgfSk7CgogICAgICAgICAgICAKICAgICAgICAgICAgICAgIHZhciBodG1sX2E0Y2ViMWNlNjcyODRiOTY5NGZhNzcwNjNmZDA5MjIzID0gJChgPGRpdiBpZD0iaHRtbF9hNGNlYjFjZTY3Mjg0Yjk2OTRmYTc3MDYzZmQwOTIyMyIgc3R5bGU9IndpZHRoOiAxMDAuMCU7IGhlaWdodDogMTAwLjAlOyI+Qm9zdG9uPC9kaXY+YClbMF07CiAgICAgICAgICAgICAgICBwb3B1cF9kZmRhM2QzMzg0YzI0MTNiYTkxYWI2YTRkNjc3MTdiZS5zZXRDb250ZW50KGh0bWxfYTRjZWIxY2U2NzI4NGI5Njk0ZmE3NzA2M2ZkMDkyMjMpOwogICAgICAgICAgICAKCiAgICAgICAgICAgIG1hcmtlcl80OTBlMTI4YzhkM2Q0ZmQ3YmMxYmI2OGFjNWQxMDEzMy5iaW5kUG9wdXAocG9wdXBfZGZkYTNkMzM4NGMyNDEzYmE5MWFiNmE0ZDY3NzE3YmUpCiAgICAgICAgICAgIDsKCiAgICAgICAgICAgIAogICAgICAgIAogICAgCiAgICAgICAgdmFyIG1hcmtlcl8wN2U0NzhlMDczYjU0MGMwOWMwNDI3ZGExM2I3NGRmZiA9IEwubWFya2VyKAogICAgICAgICAgICBbMzcuNzc0OTI5LCAtMTIyLjQxOTQxOF0sCiAgICAgICAgICAgIHsKICAgICAgICAgICAgICAgIGljb246IG5ldyBMLkljb24uRGVmYXVsdCgpLAogICAgICAgICAgICAgICAgfQogICAgICAgICAgICApLmFkZFRvKG1hcF8xYmJjMWQ3ZDBiMDg0M2E0OGVhNGYxMjQ2OWE3MDA0OSk7CiAgICAgICAgCiAgICAKCiAgICAgICAgICAgICAgICB2YXIgaWNvbl9jMjBiN2ZhNjJlNmE0MTYxYmUzZjViMjA5OTM0M2QwOSA9IEwuQXdlc29tZU1hcmtlcnMuaWNvbih7CiAgICAgICAgICAgICAgICAgICAgaWNvbjogJ2luZm8tc2lnbicsCiAgICAgICAgICAgICAgICAgICAgaWNvbkNvbG9yOiAnd2hpdGUnLAogICAgICAgICAgICAgICAgICAgIG1hcmtlckNvbG9yOiAnZ3JlZW4nLAogICAgICAgICAgICAgICAgICAgIHByZWZpeDogJ2dseXBoaWNvbicsCiAgICAgICAgICAgICAgICAgICAgZXh0cmFDbGFzc2VzOiAnZmEtcm90YXRlLTAnCiAgICAgICAgICAgICAgICAgICAgfSk7CiAgICAgICAgICAgICAgICBtYXJrZXJfMDdlNDc4ZTA3M2I1NDBjMDljMDQyN2RhMTNiNzRkZmYuc2V0SWNvbihpY29uX2MyMGI3ZmE2MmU2YTQxNjFiZTNmNWIyMDk5MzQzZDA5KTsKICAgICAgICAgICAgCiAgICAKICAgICAgICAgICAgdmFyIHBvcHVwXzQ2NDY5NTMzMTllZTQ3MzI5M2RlOGFmNTg1N2Q3MzgyID0gTC5wb3B1cCh7bWF4V2lkdGg6ICcxMDAlJwogICAgICAgICAgICAKICAgICAgICAgICAgfSk7CgogICAgICAgICAgICAKICAgICAgICAgICAgICAgIHZhciBodG1sXzc1YTYwNzA5ZGZmMjRjOTNhODExMTZhNzNiYzJkNzNjID0gJChgPGRpdiBpZD0iaHRtbF83NWE2MDcwOWRmZjI0YzkzYTgxMTE2YTczYmMyZDczYyIgc3R5bGU9IndpZHRoOiAxMDAuMCU7IGhlaWdodDogMTAwLjAlOyI+U2FuIEZyYW5zaXNjbzwvZGl2PmApWzBdOwogICAgICAgICAgICAgICAgcG9wdXBfNDY0Njk1MzMxOWVlNDczMjkzZGU4YWY1ODU3ZDczODIuc2V0Q29udGVudChodG1sXzc1YTYwNzA5ZGZmMjRjOTNhODExMTZhNzNiYzJkNzNjKTsKICAgICAgICAgICAgCgogICAgICAgICAgICBtYXJrZXJfMDdlNDc4ZTA3M2I1NDBjMDljMDQyN2RhMTNiNzRkZmYuYmluZFBvcHVwKHBvcHVwXzQ2NDY5NTMzMTllZTQ3MzI5M2RlOGFmNTg1N2Q3MzgyKQogICAgICAgICAgICA7CgogICAgICAgICAgICAKICAgICAgICAKICAgIAogICAgICAgIHZhciBtYXJrZXJfYmIxNjVjODhkM2UxNGYwYmFiNjUzMGI3MGNkMzU0YWMgPSBMLm1hcmtlcigKICAgICAgICAgICAgWzQxLjg3ODExMywgLTg3LjYyOTc5OV0sCiAgICAgICAgICAgIHsKICAgICAgICAgICAgICAgIGljb246IG5ldyBMLkljb24uRGVmYXVsdCgpLAogICAgICAgICAgICAgICAgfQogICAgICAgICAgICApLmFkZFRvKG1hcF8xYmJjMWQ3ZDBiMDg0M2E0OGVhNGYxMjQ2OWE3MDA0OSk7CiAgICAgICAgCiAgICAKCiAgICAgICAgICAgICAgICB2YXIgaWNvbl83OWEyMjEzZGY3YjE0YmIyOGEyNDk1ZmU0ODFhNTBkNyA9IEwuQXdlc29tZU1hcmtlcnMuaWNvbih7CiAgICAgICAgICAgICAgICAgICAgaWNvbjogJ2VudmVsb3BlJywKICAgICAgICAgICAgICAgICAgICBpY29uQ29sb3I6ICd3aGl0ZScsCiAgICAgICAgICAgICAgICAgICAgbWFya2VyQ29sb3I6ICdyZWQnLAogICAgICAgICAgICAgICAgICAgIHByZWZpeDogJ2dseXBoaWNvbicsCiAgICAgICAgICAgICAgICAgICAgZXh0cmFDbGFzc2VzOiAnZmEtcm90YXRlLTAnCiAgICAgICAgICAgICAgICAgICAgfSk7CiAgICAgICAgICAgICAgICBtYXJrZXJfYmIxNjVjODhkM2UxNGYwYmFiNjUzMGI3MGNkMzU0YWMuc2V0SWNvbihpY29uXzc5YTIyMTNkZjdiMTRiYjI4YTI0OTVmZTQ4MWE1MGQ3KTsKICAgICAgICAgICAgCiAgICAKICAgICAgICAgICAgdmFyIHBvcHVwXzQ1YTQ5NTk1MjdiOTRjZTE4MTIwZmJiNDg3YTExMWYyID0gTC5wb3B1cCh7bWF4V2lkdGg6ICcxMDAlJwogICAgICAgICAgICAKICAgICAgICAgICAgfSk7CgogICAgICAgICAgICAKICAgICAgICAgICAgICAgIHZhciBodG1sXzU0MDliN2U5ZjMwYjQzNDk4ZGQ3YTYyYjIxMDU4ZjJmID0gJChgPGRpdiBpZD0iaHRtbF81NDA5YjdlOWYzMGI0MzQ5OGRkN2E2MmIyMTA1OGYyZiIgc3R5bGU9IndpZHRoOiAxMDAuMCU7IGhlaWdodDogMTAwLjAlOyI+Q2hpY2FnbzwvZGl2PmApWzBdOwogICAgICAgICAgICAgICAgcG9wdXBfNDVhNDk1OTUyN2I5NGNlMTgxMjBmYmI0ODdhMTExZjIuc2V0Q29udGVudChodG1sXzU0MDliN2U5ZjMwYjQzNDk4ZGQ3YTYyYjIxMDU4ZjJmKTsKICAgICAgICAgICAgCgogICAgICAgICAgICBtYXJrZXJfYmIxNjVjODhkM2UxNGYwYmFiNjUzMGI3MGNkMzU0YWMuYmluZFBvcHVwKHBvcHVwXzQ1YTQ5NTk1MjdiOTRjZTE4MTIwZmJiNDg3YTExMWYyKQogICAgICAgICAgICA7CgogICAgICAgICAgICAKICAgICAgICAKPC9zY3JpcHQ+ onload=\"this.contentDocument.open();this.contentDocument.write(atob(this.getAttribute('data-html')));this.contentDocument.close();\" allowfullscreen webkitallowfullscreen mozallowfullscreen></iframe></div></div>"
            ],
            "text/plain": [
              "<folium.folium.Map at 0x7fa251b57588>"
            ]
          },
          "metadata": {
            "tags": []
          },
          "execution_count": 14
        }
      ]
    },
    {
      "cell_type": "markdown",
      "metadata": {
        "id": "qnMnP0Z4pBiZ"
      },
      "source": [
        "# Custome icons with images\n",
        "\n",
        "---\n",
        "\n",
        "\n",
        "\n",
        "\n",
        "```\n",
        "#create superhero icons from images\n",
        "iconSpiderman = folium.features.CustomIcon('./images/spiderman.png', icon_size=(100,100))\n",
        "iconHulk = folium.features.CustomIcon('./images/hulk.png', icon_size=(100,100))\n",
        "iconWolverine = folium.features.CustomIcon('./images/wolverine.png', icon_size=(100,100))\n",
        "\n",
        "#create superhero popup descriptions\n",
        "popupSpiderman = \"<strong>Spiderman</strong><br>Realname: Peter Parker<br>City of birth: Forest Hills, Queens, New York, USA\"\n",
        "popupHulk = \"<strong>Hulk</strong><br>Realname: Bruce Banner<br>City of birth: Dayton, Ohio, USA\"\n",
        "popupWolverine = \"<strong>Wolverine</strong><br>Realname: James Howlett (Logan)<br>City of birth: Cold Lake, Alberta, Canada\"\n",
        "\n",
        "#create superhero markers and add them to map object\n",
        "folium.Marker([40.743720, -73.822030], tooltip=\"Spiderman\", popup=popupSpiderman, icon=iconSpiderman).add_to(m)\n",
        "folium.Marker([39.760979, -84.192200], tooltip=\"Hulk\", popup=popupHulk, icon=iconHulk).add_to(m)\n",
        "folium.Marker([54.464180, -110.182259], tooltip=\"Wolverine\", popup=popupWolverine, icon=iconWolverine).add_to(m)\n",
        "\n",
        "#generate map and save as local file\n",
        "m.save('index.html')\n",
        "```\n",
        "\n"
      ]
    },
    {
      "cell_type": "markdown",
      "metadata": {
        "id": "jBhjTtgKnujw"
      },
      "source": [
        "[Reference](https://www.youtube.com/watch?v=QpBmO35pmVE)"
      ]
    }
  ]
}